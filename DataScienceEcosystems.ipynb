{
 "cells": [
  {
   "cell_type": "code",
   "execution_count": 1,
   "id": "781bf194-5019-4200-8504-b92063b7848a",
   "metadata": {
    "tags": []
   },
   "outputs": [
    {
     "name": "stdout",
     "output_type": "stream",
     "text": [
      "Hello World\n"
     ]
    }
   ],
   "source": [
    "print(\"Hello World\")"
   ]
  },
  {
   "cell_type": "markdown",
   "id": "62302c01-5a6e-4eb5-bbce-a6fd80ecaa2c",
   "metadata": {},
   "source": [
    "Data Science Tools and Ecosystems"
   ]
  },
  {
   "cell_type": "markdown",
   "id": "99056ea1-55e3-42e9-9e6d-9578dd726ed5",
   "metadata": {},
   "source": [
    "In this Notebook, Data Science Tools and Ecosystems are Summarized."
   ]
  },
  {
   "cell_type": "markdown",
   "id": "64cc70a6-a8aa-4f93-8955-842b0b7a17c7",
   "metadata": {},
   "source": [
    "**Objectives**\n",
    "- Python\n",
    "- SQL\n",
    "- R\n",
    "- JavaScript"
   ]
  },
  {
   "cell_type": "markdown",
   "id": "795ec1eb-11dc-450a-a95d-05f9c736238d",
   "metadata": {},
   "source": [
    "Some of the Most popular languages that Data Scientists use are:\n",
    "\n",
    "1. Python\n",
    "2. SQL\n",
    "3. R\n",
    "4. JavaScript"
   ]
  },
  {
   "cell_type": "markdown",
   "id": "9d5e2ba1-33cc-4c10-bc2d-c4ef17a3a0fe",
   "metadata": {},
   "source": [
    "Some of the commonly used libraries used by Data Scientists include:\n",
    "\n",
    "1. TensorFlow\n",
    "2. SciPy\n",
    "3. NumPy\n",
    "4. Matplotlib"
   ]
  },
  {
   "cell_type": "markdown",
   "id": "762e3d1d-7ef7-4429-93e1-3d491c7a2fb4",
   "metadata": {},
   "source": [
    "|**Data Science Tools**|\n",
    "------------------------\n",
    "|Matlab|\n",
    "|Azure ML|\n",
    "|SAS Enterprise Miner|"
   ]
  },
  {
   "cell_type": "markdown",
   "id": "9736e562-54ec-4594-9711-8f737d5fb7da",
   "metadata": {},
   "source": [
    "### Below are Few Examples of evaluating arithmetic expressions in Python"
   ]
  },
  {
   "cell_type": "code",
   "execution_count": 3,
   "id": "3174dc15-0587-4293-8e3a-f0050697d06d",
   "metadata": {
    "tags": []
   },
   "outputs": [
    {
     "name": "stdout",
     "output_type": "stream",
     "text": [
      "5\n",
      "14\n",
      "20\n"
     ]
    }
   ],
   "source": [
    "# This is a simple arithmetic expression.\n",
    "print(2 + 3)\n",
    "# This is an expression with multiple operators.\n",
    "print(2 + 3 * 4)\n",
    "# This is an expression with parentheses.\n",
    "print((2 + 3) * 4)\n",
    "# This is an expression with a variable.\n",
    "x = 5"
   ]
  },
  {
   "cell_type": "code",
   "execution_count": 9,
   "id": "696be3d7-e0aa-47f1-b68b-f687ab0fa480",
   "metadata": {
    "tags": []
   },
   "outputs": [
    {
     "data": {
      "text/plain": [
       "17"
      ]
     },
     "execution_count": 9,
     "metadata": {},
     "output_type": "execute_result"
    }
   ],
   "source": [
    "# This is a Simple Arithmetic expression to multiply then add integer\n",
    "(3*4)+5"
   ]
  },
  {
   "cell_type": "code",
   "execution_count": 8,
   "id": "2a82fa6a-caf7-446c-abcc-a9f2be9664d8",
   "metadata": {
    "tags": []
   },
   "outputs": [
    {
     "data": {
      "text/plain": [
       "3.3333333333333335"
      ]
     },
     "execution_count": 8,
     "metadata": {},
     "output_type": "execute_result"
    }
   ],
   "source": [
    "# This will convert 200 minutes to hours by dividing by 60.\n",
    "minutes = 200\n",
    "hours = minutes / 60\n",
    "hours\n"
   ]
  },
  {
   "cell_type": "markdown",
   "id": "012cc81c-81f9-4294-9615-f24149441e48",
   "metadata": {},
   "source": [
    "## Author\n",
    "Raj Dhobi"
   ]
  },
  {
   "cell_type": "code",
   "execution_count": null,
   "id": "43cdfacb-032c-4d8e-8821-e195d50a22b2",
   "metadata": {},
   "outputs": [],
   "source": []
  }
 ],
 "metadata": {
  "kernelspec": {
   "display_name": "Python",
   "language": "python",
   "name": "conda-env-python-py"
  },
  "language_info": {
   "codemirror_mode": {
    "name": "ipython",
    "version": 3
   },
   "file_extension": ".py",
   "mimetype": "text/x-python",
   "name": "python",
   "nbconvert_exporter": "python",
   "pygments_lexer": "ipython3",
   "version": "3.7.12"
  }
 },
 "nbformat": 4,
 "nbformat_minor": 5
}
